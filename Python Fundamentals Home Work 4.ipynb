{
 "cells": [
  {
   "cell_type": "markdown",
   "id": "569f00c1",
   "metadata": {},
   "source": [
    "# 628. Maximum Product of Three Numbers\n",
    "\n",
    "Given an integer array nums, find three numbers whose product is maximum and return the maximum product.\n",
    "\n",
    "Example 1:\n",
    "\n",
    "Input: nums = [1,2,3]\n",
    "Output: 6\n",
    "Example 2:\n",
    "\n",
    "Input: nums = [1,2,3,4]\n",
    "Output: 24\n",
    "Example 3:\n",
    "\n",
    "Input: nums = [-1,-2,-3]\n",
    "Output: -6"
   ]
  },
  {
   "cell_type": "code",
   "execution_count": 18,
   "id": "c235a715",
   "metadata": {},
   "outputs": [],
   "source": [
    "class Solution:\n",
    "    def maximumProduct(self, nums) -> int:\n",
    "\n",
    "        min1, min2 = float(\"inf\"), float(\"inf\")\n",
    "        max1, max2, max3 = float(\"-inf\"), float(\"-inf\"), float(\"-inf\")\n",
    "    \n",
    "        for n in nums:\n",
    "            if n <= min1:\n",
    "                min2 = min1\n",
    "                min1 = n\n",
    "            elif n <= min2:\n",
    "                min2 = n\n",
    "\n",
    "            if n >= max1:\n",
    "                max3 = max2\n",
    "                max2 = max1\n",
    "                max1 = n\n",
    "            elif n >= max2:\n",
    "                max3 = max2\n",
    "                max2 = n\n",
    "            elif n >= max3:\n",
    "                max3 = n\n",
    "\n",
    "        return max(min1 * min2 * max1, max1 * max2 * max3)"
   ]
  },
  {
   "cell_type": "markdown",
   "id": "eef88ef3",
   "metadata": {},
   "source": [
    "# 1672. Richest Customer Wealth\n",
    "\n",
    "You are given an m x n integer grid accounts where accounts[i][j] is the amount of money the i​​​​​​​​​​​th​​​​ customer has in the j​​​​​​​​​​​th​​​​ bank. Return the wealth that the richest customer has.\n",
    "A customer's wealth is the amount of money they have in all their bank accounts. The richest customer is the customer that has the maximum wealth.\n",
    "\n",
    "Example 1:\n",
    "\n",
    "Input: accounts = [[1,2,3],[3,2,1]]\n",
    "Output: 6\n",
    "\n",
    "Example 2:\n",
    "\n",
    "Input: accounts = [[1,5],[7,3],[3,5]]\n",
    "Output: 10\n",
    "\n",
    "Example 3:\n",
    "\n",
    "Input: accounts = [[2,8,7],[7,1,3],[1,9,5]]\n",
    "Output: 17 "
   ]
  },
  {
   "cell_type": "code",
   "execution_count": 19,
   "id": "1690dc00",
   "metadata": {},
   "outputs": [],
   "source": [
    "class Solution:\n",
    "    def maximumWealth(self, accounts) -> int:\n",
    "        richest = 0\n",
    "        \n",
    "        for n in accounts:\n",
    "            richest = max(sum(n), richest)\n",
    "            \n",
    "        return richest"
   ]
  },
  {
   "cell_type": "markdown",
   "id": "920bd01b",
   "metadata": {},
   "source": [
    "# 1470. Shuffle the Array\n",
    "\n",
    "Given the array nums consisting of 2n elements in the form [x1,x2,...,xn,y1,y2,...,yn].\n",
    "\n",
    "Return the array in the form [x1,y1,x2,y2,...,xn,yn].\n",
    "\n",
    "Example 1:\n",
    "\n",
    "Input: nums = [2,5,1,3,4,7], n = 3\n",
    "Output: [2,3,5,4,1,7] \n",
    "\n",
    "Example 2:\n",
    "\n",
    "Input: nums = [1,2,3,4,4,3,2,1], n = 4\n",
    "Output: [1,4,2,3,3,2,4,1]\n",
    "\n",
    "Example 3:\n",
    "\n",
    "Input: nums = [1,1,2,2], n = 2\n",
    "Output: [1,2,1,2]"
   ]
  },
  {
   "cell_type": "code",
   "execution_count": 24,
   "id": "4aba8446",
   "metadata": {},
   "outputs": [],
   "source": [
    "class Solution:\n",
    "    def shuffle(self, nums, n) -> int:\n",
    "        ans=[]\n",
    "        for i in range(n):\n",
    "            ans.append(nums[i])   \n",
    "            ans.append(nums[n+i])\n",
    "        return ans"
   ]
  },
  {
   "cell_type": "markdown",
   "id": "f2828dae",
   "metadata": {},
   "source": [
    "# 367. Valid Perfect Square\n",
    "\n",
    "Given a positive integer num, write a function which returns True if num is a perfect square else False.\n",
    "Follow up: Do not use any built-in library function such as sqrt.\n",
    "\n",
    "Example 1:\n",
    "\n",
    "Input: num = 16\n",
    "Output: true\n",
    "\n",
    "Example 2:\n",
    "\n",
    "Input: num = 14\n",
    "Output: false"
   ]
  },
  {
   "cell_type": "code",
   "execution_count": 25,
   "id": "05e78b11",
   "metadata": {},
   "outputs": [],
   "source": [
    "class Solution:\n",
    "    def isPerfectSquare(self, num: int) -> bool:\n",
    "        \n",
    "        sqrt_num = num ** 0.5 \n",
    "        \n",
    "        answer = False \n",
    "        \n",
    "        if sqrt_num == int(sqrt_num): \n",
    "            answer = True \n",
    "            \n",
    "        return answer\n"
   ]
  }
 ],
 "metadata": {
  "kernelspec": {
   "display_name": "Python 3",
   "language": "python",
   "name": "python3"
  },
  "language_info": {
   "codemirror_mode": {
    "name": "ipython",
    "version": 3
   },
   "file_extension": ".py",
   "mimetype": "text/x-python",
   "name": "python",
   "nbconvert_exporter": "python",
   "pygments_lexer": "ipython3",
   "version": "3.8.8"
  }
 },
 "nbformat": 4,
 "nbformat_minor": 5
}
